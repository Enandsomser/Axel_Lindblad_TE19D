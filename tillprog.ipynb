{
 "metadata": {
  "language_info": {
   "codemirror_mode": {
    "name": "ipython",
    "version": 3
   },
   "file_extension": ".py",
   "mimetype": "text/x-python",
   "name": "python",
   "nbconvert_exporter": "python",
   "pygments_lexer": "ipython3",
   "version": "3.8.3-final"
  },
  "orig_nbformat": 2,
  "kernelspec": {
   "name": "python3",
   "display_name": "Python 3"
  }
 },
 "nbformat": 4,
 "nbformat_minor": 2,
 "cells": [
  {
   "cell_type": "code",
   "execution_count": 6,
   "metadata": {},
   "outputs": [
    {
     "output_type": "stream",
     "name": "stdout",
     "text": [
      "1\n3\n5\n7\n9\ntalen tillsamans blir 945\n"
     ]
    }
   ],
   "source": [
    "#m04u01\n",
    "summa=1\n",
    "for i in range(1, 11, 2):\n",
    "    print(i)\n",
    "    summa *= i\n",
    "\n",
    "print(\"talen tillsamans blir\", summa)"
   ]
  },
  {
   "cell_type": "code",
   "execution_count": 6,
   "metadata": {},
   "outputs": [
    {
     "output_type": "stream",
     "name": "stdout",
     "text": [
      "15579.674166007651 kr\n"
     ]
    }
   ],
   "source": [
    "#m04u02-a\n",
    "pengar=int(input(\"Välj ditt belopp att sätta in i banken.\"))\n",
    "renta=float(input(\"Välj renta.\"))\n",
    "tid=int(input(\"Välj tid i år.\"))\n",
    "pengar=pengar*(renta**tid)\n",
    "print(pengar,\"kr\")"
   ]
  },
  {
   "cell_type": "code",
   "execution_count": 6,
   "metadata": {},
   "outputs": [
    {
     "output_type": "execute_result",
     "data": {
      "text/plain": [
       "9"
      ]
     },
     "metadata": {},
     "execution_count": 6
    }
   ],
   "source": []
  },
  {
   "cell_type": "code",
   "execution_count": null,
   "metadata": {},
   "outputs": [],
   "source": []
  }
 ]
}